{
  "nbformat": 4,
  "nbformat_minor": 0,
  "metadata": {
    "colab": {
      "provenance": [],
      "collapsed_sections": []
    },
    "kernelspec": {
      "name": "python3",
      "display_name": "Python 3"
    },
    "language_info": {
      "name": "python"
    }
  },
  "cells": [
    {
      "cell_type": "code",
      "execution_count": 1,
      "metadata": {
        "colab": {
          "base_uri": "https://localhost:8080/"
        },
        "id": "h9tEwCMxy4uc",
        "outputId": "51d1ffaa-0d79-49d4-9169-2682fb9d791b"
      },
      "outputs": [
        {
          "output_type": "execute_result",
          "data": {
            "text/plain": [
              "True"
            ]
          },
          "metadata": {},
          "execution_count": 1
        }
      ],
      "source": [
        "def is_prime(num):\n",
        "  if (num<2):\n",
        "    return False\n",
        "  elif(num == 2):\n",
        "    return True\n",
        "  elif(num%2 == 0):\n",
        "    return False\n",
        "  i=3  \n",
        "  while i<int(num/2):\n",
        "    if(num%i == 0):\n",
        "      return False\n",
        "    i+=2\n",
        "  return True\n",
        "is_prime(101)"
      ]
    }
  ]
}