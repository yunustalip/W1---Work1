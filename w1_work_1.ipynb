{
  "nbformat": 4,
  "nbformat_minor": 0,
  "metadata": {
    "colab": {
      "provenance": [],
      "collapsed_sections": [],
      "authorship_tag": "ABX9TyPZdXAZKxsCNuZgFKSjhoWz",
      "include_colab_link": true
    },
    "kernelspec": {
      "name": "python3",
      "display_name": "Python 3"
    },
    "language_info": {
      "name": "python"
    }
  },
  "cells": [
    {
      "cell_type": "markdown",
      "metadata": {
        "id": "view-in-github",
        "colab_type": "text"
      },
      "source": [
        "<a href=\"https://colab.research.google.com/github/yunustalip/W1---Work1/blob/main/w1_work_1.ipynb\" target=\"_parent\"><img src=\"https://colab.research.google.com/assets/colab-badge.svg\" alt=\"Open In Colab\"/></a>"
      ]
    },
    {
      "cell_type": "code",
      "execution_count": null,
      "metadata": {
        "colab": {
          "base_uri": "https://localhost:8080/"
        },
        "id": "h9tEwCMxy4uc",
        "outputId": "393c497d-8e62-4089-bd3f-a39f38816d61"
      },
      "outputs": [
        {
          "output_type": "execute_result",
          "data": {
            "text/plain": [
              "True"
            ]
          },
          "metadata": {},
          "execution_count": 2
        }
      ],
      "source": [
        "def is_prime(num):\n",
        "  if (num<2):\n",
        "    return False\n",
        "  elif(num == 2):\n",
        "    return True\n",
        "  elif(num%2 == 0):\n",
        "    return False\n",
        "  i=2  \n",
        "  while i<int(num/2):\n",
        "    if(num%i == 0):\n",
        "      return False\n",
        "    i=i+1\n",
        "  return True\n",
        "is_prime(101)"
      ]
    }
  ]
}